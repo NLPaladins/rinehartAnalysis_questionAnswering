{
 "cells": [
  {
   "cell_type": "markdown",
   "metadata": {
    "colab_type": "text",
    "id": "view-in-github"
   },
   "source": [
    "<a href=\"https://colab.research.google.com/github/NLPaladins/rinehartAnalysis_questionAnswering/blob/master/main.ipynb\" target=\"_parent\"><img src=\"https://colab.research.google.com/assets/colab-badge.svg\" alt=\"Open In Colab\"/></a>"
   ]
  },
  {
   "cell_type": "markdown",
   "metadata": {
    "collapsed": true,
    "id": "Vt9t7-fVi8At"
   },
   "source": [
    "# NLP - Project 3\n",
    "## Rinehart Analysis Question Answering\n",
    "**Team**: *Jean Merlet, Konstantinos Georgiou, Matt Lane*"
   ]
  },
  {
   "cell_type": "markdown",
   "metadata": {
    "id": "1gmuUzi6gSdg"
   },
   "source": [
    "# ------------------------------------------------------------------"
   ]
  },
  {
   "cell_type": "markdown",
   "metadata": {
    "id": "1Nl39AXjgSdg"
   },
   "source": [
    "## On Google Collab?\n",
    "- **If yes, run the two cells and press the two buttons below:**\n",
    "- Otherwise go to \"***Import the base Libraries***\""
   ]
  },
  {
   "cell_type": "code",
   "execution_count": 22,
   "metadata": {
    "ExecuteTime": {
     "end_time": "2021-11-27T02:33:29.359616Z",
     "start_time": "2021-11-27T02:33:29.295852Z"
    },
    "colab": {
     "base_uri": "https://localhost:8080/",
     "height": 104,
     "referenced_widgets": [
      "e7b4d0dcb1f24d998063f877d1efbca7",
      "f7b19456e9b94ee09f8ed14cc1ba960b",
      "1731d42a04634fee89c2f80c12a29c88",
      "c2de90b9bdf54f6e933b76a703061497"
     ]
    },
    "id": "1SQIWYWmi8A4",
    "outputId": "9832cee7-6841-41cc-ef30-3bbf97b720d3"
   },
   "outputs": [
    {
     "name": "stdout",
     "output_type": "stream",
     "text": [
      "Clone project?\n",
      "(If you do this you will ovewrite local changes on other files e.g. configs)\n",
      "Not needed if you're not on Google Collab\n"
     ]
    },
    {
     "data": {
      "application/vnd.jupyter.widget-view+json": {
       "model_id": "ab6178bfe6804c949a5240fcefc8a55a",
       "version_major": 2,
       "version_minor": 0
      },
      "text/plain": [
       "Button(description='Yes, clone', style=ButtonStyle())"
      ]
     },
     "metadata": {},
     "output_type": "display_data"
    }
   ],
   "source": [
    "# Import Jupyter Widgets\n",
    "import pandas as pd\n",
    "import os\n",
    "import ipywidgets as widgets\n",
    "from ipywidgets import interact, interact_manual\n",
    "from IPython.display import display\n",
    "# Clone the repository if you're in Google Collab\n",
    "def clone_project(is_collab: bool = False):\n",
    "    print(\"Cloning Project..\")\n",
    "    !git clone https://github.com/NLPaladins/rinehartAnalysis_questionAnswering.git\n",
    "    print(\"Project cloned.\")\n",
    "       \n",
    "print(\"Clone project?\")\n",
    "print(\"(If you do this you will ovewrite local changes on other files e.g. configs)\")\n",
    "print(\"Not needed if you're not on Google Collab\")\n",
    "btn = widgets.Button(description=\"Yes, clone\")\n",
    "btn.on_click(clone_project)\n",
    "display(btn)"
   ]
  },
  {
   "cell_type": "code",
   "execution_count": 2,
   "metadata": {
    "ExecuteTime": {
     "end_time": "2021-11-27T02:33:29.475778Z",
     "start_time": "2021-11-27T02:33:29.466674Z"
    },
    "colab": {
     "base_uri": "https://localhost:8080/",
     "height": 67,
     "referenced_widgets": [
      "c55ebd5855ca490791c5d6b9308b6d4e",
      "5f7a290065d24765a0bc5fa9801fd815",
      "a5b00bcabdfc42c480043de40a36c486",
      "35d1878f3f4849a0975e8ffabf5d9a6d"
     ]
    },
    "id": "F_l8p4H1i8A5",
    "outputId": "8e4174bb-ba13-4f22-b2d6-f5045de58d9e"
   },
   "outputs": [
    {
     "name": "stdout",
     "output_type": "stream",
     "text": [
      "Are you on Google Collab?\n"
     ]
    },
    {
     "data": {
      "application/vnd.jupyter.widget-view+json": {
       "model_id": "034379319656491989790a3525b5af91",
       "version_major": 2,
       "version_minor": 0
      },
      "text/plain": [
       "Button(description='Yes', style=ButtonStyle())"
      ]
     },
     "metadata": {},
     "output_type": "display_data"
    }
   ],
   "source": [
    "# Clone the repository if you're in Google Collab\n",
    "def change_dir(is_collab: bool = False):\n",
    "    try:\n",
    "        print(\"Changing dir..\")\n",
    "        os.chdir('/content/rinehartAnalysis')\n",
    "        print('done')\n",
    "        print(\"Current dir:\")\n",
    "        print(os.getcwd())\n",
    "        print(\"Dir Contents:\")\n",
    "        print(os.listdir())\n",
    "        print(\"\\nInstalling Requirements\")\n",
    "        !pip install -r requirements.txt\n",
    "    except Exception:\n",
    "        print(\"Error: Project not cloned\")\n",
    "       \n",
    "print(\"Are you on Google Collab?\")\n",
    "btn = widgets.Button(description=\"Yes\")\n",
    "btn.on_click(change_dir)\n",
    "display(btn)"
   ]
  },
  {
   "cell_type": "markdown",
   "metadata": {
    "id": "6CpeQfTli8A6"
   },
   "source": [
    "### To commit and push Google Collab notebook to Github\n",
    "Click **File > Save a copy on Gihtub**"
   ]
  },
  {
   "cell_type": "markdown",
   "metadata": {
    "id": "reFZW6B8gSdj"
   },
   "source": [
    "# ------------------------------------------------------------------"
   ]
  },
  {
   "cell_type": "markdown",
   "metadata": {
    "id": "h54edY45gSdj"
   },
   "source": [
    "# Initializations"
   ]
  },
  {
   "cell_type": "markdown",
   "metadata": {
    "id": "H1RHGfh1i8A8",
    "pycharm": {
     "name": "#%%\n"
    }
   },
   "source": [
    "## Import the base Libraries"
   ]
  },
  {
   "cell_type": "code",
   "execution_count": 3,
   "metadata": {
    "ExecuteTime": {
     "end_time": "2021-11-27T02:33:33.347693Z",
     "start_time": "2021-11-27T02:33:31.723442Z"
    },
    "colab": {
     "base_uri": "https://localhost:8080/"
    },
    "id": "wjKYGxzYi8A9",
    "outputId": "185d3c02-7723-4c5d-a58a-69a2eff4462f"
   },
   "outputs": [],
   "source": [
    "# Imports\n",
    "%load_ext autoreload\n",
    "%autoreload 2\n",
    "from importlib import reload as reload_lib\n",
    "from typing import *\n",
    "import os\n",
    "import re\n",
    "from pprint import pprint\n",
    "# Numpy\n",
    "import numpy as np\n",
    "# Spacy\n",
    "from spacy.lang.en import English\n",
    "# Hugging face\n",
    "from transformers import pipeline"
   ]
  },
  {
   "cell_type": "markdown",
   "metadata": {
    "id": "PYBmLhFZgSdk"
   },
   "source": [
    "## Load the YML file"
   ]
  },
  {
   "cell_type": "code",
   "execution_count": 4,
   "metadata": {
    "ExecuteTime": {
     "end_time": "2021-11-27T02:33:37.731122Z",
     "start_time": "2021-11-27T02:33:33.348893Z"
    },
    "id": "-z773EjNgSdk"
   },
   "outputs": [
    {
     "name": "stderr",
     "output_type": "stream",
     "text": [
      "No model was supplied, defaulted to distilbert-base-cased-distilled-squad (https://huggingface.co/distilbert-base-cased-distilled-squad)\n"
     ]
    }
   ],
   "source": [
    "from nlp_libs import Configuration"
   ]
  },
  {
   "cell_type": "code",
   "execution_count": 5,
   "metadata": {
    "ExecuteTime": {
     "end_time": "2021-11-27T02:33:37.765297Z",
     "start_time": "2021-11-27T02:33:37.732183Z"
    },
    "colab": {
     "base_uri": "https://localhost:8080/"
    },
    "id": "XYH2o7w3i8A-",
    "outputId": "48016d05-91df-462d-9f73-87d98d66a375"
   },
   "outputs": [
    {
     "name": "stderr",
     "output_type": "stream",
     "text": [
      "2021-11-28 15:04:56 Config       INFO     \u001b[1m\u001b[37mConfiguration file loaded successfully from path: /Users/96v/Documents/DSE/nlp/rinehartAnalysis_questionAnswering/confs/proj_3.yml\u001b[0m\n",
      "2021-11-28 15:04:56 Config       INFO     \u001b[1m\u001b[37mConfiguration Tag: proj3\u001b[0m\n"
     ]
    }
   ],
   "source": [
    "# The path of configuration and log save path\n",
    "config_path = \"confs/proj_3.yml\"\n",
    "# !cat \"$config_path\"\n",
    "# Load the configuratåion\n",
    "conf = Configuration(config_src=config_path)\n",
    "# Get the books dict\n",
    "books_conf = conf.get_config('data_loader')['config']['books']\n",
    "# print(books.keys())\n",
    "# pprint(books)  # Pretty print the books dict"
   ]
  },
  {
   "cell_type": "markdown",
   "metadata": {
    "id": "1JGDGVdVgSdl"
   },
   "source": [
    "## Setup Logger and Example"
   ]
  },
  {
   "cell_type": "code",
   "execution_count": 6,
   "metadata": {
    "ExecuteTime": {
     "end_time": "2021-11-27T02:33:37.788895Z",
     "start_time": "2021-11-27T02:33:37.766851Z"
    }
   },
   "outputs": [],
   "source": [
    "from nlp_libs import ColorizedLogger"
   ]
  },
  {
   "cell_type": "code",
   "execution_count": 7,
   "metadata": {
    "ExecuteTime": {
     "end_time": "2021-11-27T02:33:37.816363Z",
     "start_time": "2021-11-27T02:33:37.789668Z"
    },
    "id": "qud5K8LkgSdl",
    "outputId": "c6c29b9a-7dd6-4016-a608-3577d6e66cff",
    "scrolled": true
   },
   "outputs": [
    {
     "name": "stderr",
     "output_type": "stream",
     "text": [
      "2021-11-28 15:04:56 FancyLogger  INFO     \u001b[1m\u001b[37mLogger is set. Log file path: /Users/96v/Documents/DSE/nlp/rinehartAnalysis_questionAnswering/logs/proj_3.log\u001b[0m\n",
      "2021-11-28 15:04:56 Notebook     INFO     \u001b[1m\u001b[36mLogger Examples:\u001b[0m\n",
      "\n",
      "2021-11-28 15:04:56 Notebook     WARNING  \u001b[4m\u001b[36mLogger Warning underlined\u001b[0m\n",
      "2021-11-28 15:04:56 Notebook     ERROR    \u001b[1m\u001b[41m\u001b[33mLogger Error in red&yellow\u001b[0m\n"
     ]
    }
   ],
   "source": [
    "log_path = \"logs/proj_3.log\"\n",
    "# Load and setup logger\n",
    "logger = ColorizedLogger(logger_name='Notebook', color='cyan')\n",
    "ColorizedLogger.setup_logger(log_path=log_path, debug=False, clear_log=True)\n",
    "# Examples\n",
    "logger.info(\"Logger Examples:\")\n",
    "logger.nl(num_lines=1) # New lines\n",
    "logger.warn(\"Logger Warning underlined\", attrs=['underline']) \n",
    "# Atrs:  bold, dark, underline, blink, reverse, concealed\n",
    "logger.error(\"Logger Error in red&yellow\", color=\"yellow\", on_color=\"on_red\")\n",
    "# Colors: on_grey, on_red, on_green, on_yellow, on_blue, on_magenta, on_cyan, on_white"
   ]
  },
  {
   "cell_type": "markdown",
   "metadata": {
    "heading_collapsed": true,
    "id": "ztSC5oWsgSdl"
   },
   "source": [
    "# ------------------------------------------------------------------"
   ]
  },
  {
   "cell_type": "markdown",
   "metadata": {
    "id": "ZyM4avEli8A_"
   },
   "source": [
    "# Start of Project Code"
   ]
  },
  {
   "cell_type": "code",
   "execution_count": 8,
   "metadata": {
    "ExecuteTime": {
     "end_time": "2021-11-27T02:34:15.995646Z",
     "start_time": "2021-11-27T02:34:15.534915Z"
    },
    "id": "CuYpT_rqgSdl"
   },
   "outputs": [],
   "source": [
    "from nlp_libs import books as proj3_lib\n",
    "from proj2_nlp_libs import books as proj2_lib\n",
    "from proj1_nlp_libs import books as proj1_lib"
   ]
  },
  {
   "cell_type": "markdown",
   "metadata": {
    "id": "OhlCQKWpg4Et"
   },
   "source": [
    "## Questions and Answers!"
   ]
  },
  {
   "cell_type": "markdown",
   "metadata": {
    "id": "Y6kThtwEgSdl"
   },
   "source": [
    "### The Circular Staircase"
   ]
  },
  {
   "cell_type": "code",
   "execution_count": 10,
   "metadata": {
    "ExecuteTime": {
     "end_time": "2021-11-27T02:34:38.066496Z",
     "start_time": "2021-11-27T02:34:17.960801Z"
    },
    "id": "qpxXezwmgSdm"
   },
   "outputs": [],
   "source": [
    "# Load conf\n",
    "book_meta = books_conf['The_Circular_Staircase']\n",
    "book = proj3_lib.ProcessedBook(book_meta)\n",
    "# Get sentences\n",
    "sentences = book.get_sentences()"
   ]
  },
  {
   "cell_type": "code",
   "execution_count": 12,
   "metadata": {
    "ExecuteTime": {
     "end_time": "2021-11-27T02:34:57.451723Z",
     "start_time": "2021-11-27T02:34:38.069103Z"
    }
   },
   "outputs": [],
   "source": [
    "from nlp_libs.books.training_question_answer_pairs import *"
   ]
  },
  {
   "cell_type": "markdown",
   "metadata": {},
   "source": [
    "## The Basic Model: "
   ]
  },
  {
   "cell_type": "code",
   "execution_count": 15,
   "metadata": {},
   "outputs": [
    {
     "name": "stderr",
     "output_type": "stream",
     "text": [
      "No model was supplied, defaulted to distilbert-base-cased-distilled-squad (https://huggingface.co/distilbert-base-cased-distilled-squad)\n"
     ]
    }
   ],
   "source": [
    "basic_nlp = pipeline('question-answering') "
   ]
  },
  {
   "cell_type": "markdown",
   "metadata": {},
   "source": [
    "### Section 1: The Protagonist\n",
    "###### Context: "
   ]
  },
  {
   "cell_type": "code",
   "execution_count": 14,
   "metadata": {},
   "outputs": [
    {
     "data": {
      "text/plain": [
       "'At ten o\\'clock the Casanova hack brought up three men. They introduced themselves as the coroner of the county and two detectives from the city. The coroner led the way at once to the locked wing, and with the aid of one of the detectives examined the rooms and the body. The other detective, after a short scrutiny of the dead man, busied himself with the outside of the house. It was only after they had got a fair idea of things as they were that they sent for me. I received them in the living-room, and I had made up my mind exactly what to tell. I had taken the house for the summer, I said, while the Armstrongs were in California. In spite of a rumor among the servants about strange noises-I cited Thomas-nothing had occurred the first two nights. On the third night I believed that some one had been in the house: I had heard a crashing sound, but being alone with one maid had not investigated. The house had been locked in the morning and apparently undisturbed. Then, as clearly as I could, I related how, the night before, a shot had roused us; that my niece and I had investigated and found a body; that I did not know who the murdered man was until Mr. Jarvis from the club informed me, and that I knew of no reason why Mr. Arnold Armstrong should steal into his father\\'s house at night. I should have been glad to allow him entree there at any time. \"Have you reason to believe, Miss Innes,\" the coroner asked, \"that any member of your household, imagining Mr. Armstrong was a burglar, shot him in self-defense?\" \"I have no reason for thinking so,\" I said quietly. \"Your theory is that Mr. Armstrong was followed here by some enemy, and shot as he entered the house?\" \"I don\\'t think I have a theory,\" I said. \"The thing that has puzzled me is why Mr. Armstrong should enter his father\\'s house two nights in succession, stealing in like a thief, when he needed only to ask entrance to be admitted.\"'"
      ]
     },
     "execution_count": 14,
     "metadata": {},
     "output_type": "execute_result"
    }
   ],
   "source": [
    "protagonist_arrival"
   ]
  },
  {
   "cell_type": "code",
   "execution_count": 23,
   "metadata": {},
   "outputs": [],
   "source": [
    "def get_question_df(nlp, questions, actual_answers, context): \n",
    "    responses = []\n",
    "    scores = []\n",
    "    onlyanswers = list(map(lambda x: x['text'], actual_answers))\n",
    "    \n",
    "    for question in questions:\n",
    "        response = nlp(context=context, question=question)\n",
    "        responses.append(response['answer'])\n",
    "        scores.append(response['score'])\n",
    "        \n",
    "    df = pd.DataFrame(data={'question':questions, 'actual_answer': onlyanswers, 'model_response': responses, 'score': scores})\n",
    "    return df"
   ]
  },
  {
   "cell_type": "code",
   "execution_count": 26,
   "metadata": {},
   "outputs": [
    {
     "name": "stderr",
     "output_type": "stream",
     "text": [
      "/Users/96v/opt/anaconda3/lib/python3.8/site-packages/transformers/tokenization_utils_base.py:705: VisibleDeprecationWarning: Creating an ndarray from ragged nested sequences (which is a list-or-tuple of lists-or-tuples-or ndarrays with different lengths or shapes) is deprecated. If you meant to do this, you must specify 'dtype=object' when creating the ndarray.\n",
      "  tensor = as_tensor(value)\n",
      "/Users/96v/opt/anaconda3/lib/python3.8/site-packages/transformers/pipelines/question_answering.py:295: VisibleDeprecationWarning: Creating an ndarray from ragged nested sequences (which is a list-or-tuple of lists-or-tuples-or ndarrays with different lengths or shapes) is deprecated. If you meant to do this, you must specify 'dtype=object' when creating the ndarray.\n",
      "  p_mask = np.asarray(\n"
     ]
    }
   ],
   "source": [
    "protagonist_df = get_question_df(basic_nlp, protagonist_arrival_questions, protagonist_arrival_answers, protagonist_arrival)"
   ]
  },
  {
   "cell_type": "code",
   "execution_count": 27,
   "metadata": {},
   "outputs": [
    {
     "data": {
      "text/html": [
       "<div>\n",
       "<style scoped>\n",
       "    .dataframe tbody tr th:only-of-type {\n",
       "        vertical-align: middle;\n",
       "    }\n",
       "\n",
       "    .dataframe tbody tr th {\n",
       "        vertical-align: top;\n",
       "    }\n",
       "\n",
       "    .dataframe thead th {\n",
       "        text-align: right;\n",
       "    }\n",
       "</style>\n",
       "<table border=\"1\" class=\"dataframe\">\n",
       "  <thead>\n",
       "    <tr style=\"text-align: right;\">\n",
       "      <th></th>\n",
       "      <th>question</th>\n",
       "      <th>actual_answer</th>\n",
       "      <th>model_response</th>\n",
       "      <th>score</th>\n",
       "    </tr>\n",
       "  </thead>\n",
       "  <tbody>\n",
       "    <tr>\n",
       "      <th>0</th>\n",
       "      <td>When did the detectives arrive?</td>\n",
       "      <td>ten o'clock</td>\n",
       "      <td>two nights in succession</td>\n",
       "      <td>0.793458</td>\n",
       "    </tr>\n",
       "    <tr>\n",
       "      <th>1</th>\n",
       "      <td>What did the coroner do?</td>\n",
       "      <td>examined the rooms and the body</td>\n",
       "      <td>led the way at once to the locked wing</td>\n",
       "      <td>0.471032</td>\n",
       "    </tr>\n",
       "    <tr>\n",
       "      <th>2</th>\n",
       "      <td>Where were the detectives received?</td>\n",
       "      <td>in the living-room</td>\n",
       "      <td>living-room</td>\n",
       "      <td>0.404945</td>\n",
       "    </tr>\n",
       "    <tr>\n",
       "      <th>3</th>\n",
       "      <td>How did Mr. Armstrong die?</td>\n",
       "      <td>shot</td>\n",
       "      <td>shot him in self-defense</td>\n",
       "      <td>0.401332</td>\n",
       "    </tr>\n",
       "    <tr>\n",
       "      <th>4</th>\n",
       "      <td>Who informed Miss Innes about the murder?</td>\n",
       "      <td>Mr. Jarvis</td>\n",
       "      <td>the coroner</td>\n",
       "      <td>0.812423</td>\n",
       "    </tr>\n",
       "    <tr>\n",
       "      <th>5</th>\n",
       "      <td>Where were the Armstrongs during Summer?</td>\n",
       "      <td>in California</td>\n",
       "      <td>California</td>\n",
       "      <td>0.934917</td>\n",
       "    </tr>\n",
       "  </tbody>\n",
       "</table>\n",
       "</div>"
      ],
      "text/plain": [
       "                                    question                    actual_answer  \\\n",
       "0            When did the detectives arrive?                      ten o'clock   \n",
       "1                   What did the coroner do?  examined the rooms and the body   \n",
       "2        Where were the detectives received?               in the living-room   \n",
       "3                 How did Mr. Armstrong die?                             shot   \n",
       "4  Who informed Miss Innes about the murder?                       Mr. Jarvis   \n",
       "5   Where were the Armstrongs during Summer?                    in California   \n",
       "\n",
       "                           model_response     score  \n",
       "0                two nights in succession  0.793458  \n",
       "1  led the way at once to the locked wing  0.471032  \n",
       "2                             living-room  0.404945  \n",
       "3                shot him in self-defense  0.401332  \n",
       "4                             the coroner  0.812423  \n",
       "5                              California  0.934917  "
      ]
     },
     "execution_count": 27,
     "metadata": {},
     "output_type": "execute_result"
    }
   ],
   "source": [
    "protagonist_df"
   ]
  },
  {
   "cell_type": "markdown",
   "metadata": {},
   "source": [
    "### Section 2: The Antagonist"
   ]
  },
  {
   "cell_type": "code",
   "execution_count": 31,
   "metadata": {},
   "outputs": [
    {
     "data": {
      "text/plain": [
       "'Once in the drawing-room, Gertrude collapsed and went from one fainting spell into another. I had all I could do to keep Liddy from drowning her with cold water, and the maids huddled in a corner, as much use as so many sheep. In a short time, although it seemed hours, a car came rushing up, and Anne Watson, who had waited to dress, opened the door. Three men from the Greenwood Club, in all kinds of costumes, hurried in. I recognized a Mr. Jarvis, but the others were strangers. \"What\\'s wrong?\" the Jarvis man asked-and we made a strange picture, no doubt. \"Nobody hurt, is there?\" He was looking at Gertrude. \"Worse than that, Mr. Jarvis,\" I said. \"I think it is murder.\" At the word there was a commotion. The cook began to cry, and Mrs. Watson knocked over a chair. The men were visibly impressed. \"Not any member of the family?\" Mr. Jarvis asked, when he had got his breath. \"No,\" I said; and motioning Liddy to look after Gertrude, I led the way with a lamp to the card-room door. One of the men gave an exclamation, and they all hurried across the room. Mr. Jarvis took the lamp from me-I remember that-and then, feeling myself getting dizzy and light-headed, I closed my eyes. When I opened them their brief examination was over, and Mr. Jarvis was trying to put me in a chair. \"You must get up-stairs,\" he said firmly, \"you and Miss Gertrude, too. This has been a terrible shock. In his own home, too.\" I stared at him without comprehension. \"Who is it?\" I asked with difficulty. There was a band drawn tight around my throat. \"It is Arnold Armstrong,\" he said, looking at me oddly, \"and he has been murdered in his father\\'s house.\" After a minute I gathered myself together and Mr. Jarvis helped me into the living-room. Liddy had got Gertrude up-stairs, and the two strange men from the club stayed with the body. The reaction from the shock and strain was tremendous: I was collapsed-and then Mr. Jarvis asked me a question that brought back my wandering faculties.'"
      ]
     },
     "execution_count": 31,
     "metadata": {},
     "output_type": "execute_result"
    }
   ],
   "source": [
    "antagonist_arrival"
   ]
  },
  {
   "cell_type": "code",
   "execution_count": 29,
   "metadata": {},
   "outputs": [],
   "source": [
    "antagonist_df = get_question_df(basic_nlp, antagonist_arrival_questions, antagonist_arrival_answers, antagonist_arrival)"
   ]
  },
  {
   "cell_type": "code",
   "execution_count": 30,
   "metadata": {},
   "outputs": [
    {
     "data": {
      "text/html": [
       "<div>\n",
       "<style scoped>\n",
       "    .dataframe tbody tr th:only-of-type {\n",
       "        vertical-align: middle;\n",
       "    }\n",
       "\n",
       "    .dataframe tbody tr th {\n",
       "        vertical-align: top;\n",
       "    }\n",
       "\n",
       "    .dataframe thead th {\n",
       "        text-align: right;\n",
       "    }\n",
       "</style>\n",
       "<table border=\"1\" class=\"dataframe\">\n",
       "  <thead>\n",
       "    <tr style=\"text-align: right;\">\n",
       "      <th></th>\n",
       "      <th>question</th>\n",
       "      <th>actual_answer</th>\n",
       "      <th>model_response</th>\n",
       "      <th>score</th>\n",
       "    </tr>\n",
       "  </thead>\n",
       "  <tbody>\n",
       "    <tr>\n",
       "      <th>0</th>\n",
       "      <td>Who fainted?</td>\n",
       "      <td>Gertrude</td>\n",
       "      <td>Gertrude</td>\n",
       "      <td>0.836887</td>\n",
       "    </tr>\n",
       "    <tr>\n",
       "      <th>1</th>\n",
       "      <td>What's wrong?</td>\n",
       "      <td>murder</td>\n",
       "      <td>collapsed</td>\n",
       "      <td>0.187006</td>\n",
       "    </tr>\n",
       "    <tr>\n",
       "      <th>2</th>\n",
       "      <td>Why did Mrs. Watston knock over a chair?</td>\n",
       "      <td>murder</td>\n",
       "      <td>The cook began to cry</td>\n",
       "      <td>0.281203</td>\n",
       "    </tr>\n",
       "    <tr>\n",
       "      <th>3</th>\n",
       "      <td>Who opened the door?</td>\n",
       "      <td>Anne Watson</td>\n",
       "      <td>Anne Watson</td>\n",
       "      <td>0.992713</td>\n",
       "    </tr>\n",
       "    <tr>\n",
       "      <th>4</th>\n",
       "      <td>Where did Mr. Jarvis come from?</td>\n",
       "      <td>the Greenwood Club</td>\n",
       "      <td>Greenwood Club</td>\n",
       "      <td>0.636472</td>\n",
       "    </tr>\n",
       "    <tr>\n",
       "      <th>5</th>\n",
       "      <td>How Many people came to help?</td>\n",
       "      <td>Three</td>\n",
       "      <td>Three</td>\n",
       "      <td>0.666787</td>\n",
       "    </tr>\n",
       "    <tr>\n",
       "      <th>6</th>\n",
       "      <td>Who helped Gertrude?</td>\n",
       "      <td>Liddy</td>\n",
       "      <td>Anne Watson</td>\n",
       "      <td>0.906720</td>\n",
       "    </tr>\n",
       "  </tbody>\n",
       "</table>\n",
       "</div>"
      ],
      "text/plain": [
       "                                   question       actual_answer  \\\n",
       "0                              Who fainted?            Gertrude   \n",
       "1                             What's wrong?              murder   \n",
       "2  Why did Mrs. Watston knock over a chair?              murder   \n",
       "3                      Who opened the door?         Anne Watson   \n",
       "4           Where did Mr. Jarvis come from?  the Greenwood Club   \n",
       "5             How Many people came to help?               Three   \n",
       "6                      Who helped Gertrude?               Liddy   \n",
       "\n",
       "          model_response     score  \n",
       "0               Gertrude  0.836887  \n",
       "1              collapsed  0.187006  \n",
       "2  The cook began to cry  0.281203  \n",
       "3            Anne Watson  0.992713  \n",
       "4         Greenwood Club  0.636472  \n",
       "5                  Three  0.666787  \n",
       "6            Anne Watson  0.906720  "
      ]
     },
     "execution_count": 30,
     "metadata": {},
     "output_type": "execute_result"
    }
   ],
   "source": [
    "antagonist_df"
   ]
  },
  {
   "cell_type": "markdown",
   "metadata": {},
   "source": [
    "### Section 3: The Crime Scene"
   ]
  },
  {
   "cell_type": "code",
   "execution_count": 32,
   "metadata": {},
   "outputs": [
    {
     "data": {
      "text/plain": [
       "'At three o\\'clock in the morning I was roused by a revolver shot. The sound seemed to come from just outside my door. For a moment I could not move. Then-I heard Gertrude stirring in her room, and the next moment she had thrown open the connecting door. \"O Aunt Ray! Aunt Ray!\" she cried hysterically. \"Some one has been killed, killed!\" \"Thieves,\" I said shortly. \"Thank goodness, there are some men in the house to-night.\" I was getting into my slippers and a bath-robe, and Gertrude with shaking hands was lighting a lamp. Then we opened the door into the hall, where, crowded on the upper landing of the stairs, the maids, white-faced and trembling, were peering down, headed by Liddy. I was greeted by a series of low screams and questions, and I tried to quiet them. Gertrude had dropped on a chair and sat there limp and shivering. I went at once across the hall to Halsey\\'s room and knocked; then I pushed the door open. It was empty; the bed had not been occupied! \"He must be in Mr. Bailey\\'s room,\" I said excitedly, and followed by Liddy, we went there. Like Halsey\\'s, it had not been occupied! Gertrude was on her feet now, but she leaned against the door for support. \"They have been killed!\" she gasped. Then she caught me by the arm and dragged me toward the stairs. \"They may only be hurt, and we must find them,\" she said, her eyes dilated with excitement. I don\\'t remember how we got down the stairs: I do remember expecting every moment to be killed. The cook was at the telephone up-stairs, calling the Greenwood Club, and Liddy was behind me, afraid to come and not daring to stay behind. We found the living-room and the drawing-room undisturbed. Somehow I felt that whatever we found would be in the card-room or on the staircase, and nothing but the fear that Halsey was in danger drove me on; with every step my knees seemed to give way under me. Gertrude was ahead and in the card-room she stopped, holding her candle high. Then she pointed silently to the doorway into the hall beyond. Huddled there on the floor, face down, with his arms extended, was a man. Gertrude ran forward with a gasping sob. \"Jack,\" she cried, \"oh, Jack!\" Liddy had run, screaming, and the two of us were there alone. It was Gertrude who turned him over, finally, until we could see his white face, and then she drew a deep breath and dropped limply to her knees. It was the body of a man, a gentleman, in a dinner coat and white waistcoat, stained now with blood-the body of a man I had never seen before.'"
      ]
     },
     "execution_count": 32,
     "metadata": {},
     "output_type": "execute_result"
    }
   ],
   "source": [
    "crime_scene_context"
   ]
  },
  {
   "cell_type": "code",
   "execution_count": 33,
   "metadata": {},
   "outputs": [
    {
     "name": "stderr",
     "output_type": "stream",
     "text": [
      "/Users/96v/opt/anaconda3/lib/python3.8/site-packages/transformers/tokenization_utils_base.py:705: VisibleDeprecationWarning: Creating an ndarray from ragged nested sequences (which is a list-or-tuple of lists-or-tuples-or ndarrays with different lengths or shapes) is deprecated. If you meant to do this, you must specify 'dtype=object' when creating the ndarray.\n",
      "  tensor = as_tensor(value)\n",
      "/Users/96v/opt/anaconda3/lib/python3.8/site-packages/transformers/pipelines/question_answering.py:295: VisibleDeprecationWarning: Creating an ndarray from ragged nested sequences (which is a list-or-tuple of lists-or-tuples-or ndarrays with different lengths or shapes) is deprecated. If you meant to do this, you must specify 'dtype=object' when creating the ndarray.\n",
      "  p_mask = np.asarray(\n"
     ]
    },
    {
     "data": {
      "text/html": [
       "<div>\n",
       "<style scoped>\n",
       "    .dataframe tbody tr th:only-of-type {\n",
       "        vertical-align: middle;\n",
       "    }\n",
       "\n",
       "    .dataframe tbody tr th {\n",
       "        vertical-align: top;\n",
       "    }\n",
       "\n",
       "    .dataframe thead th {\n",
       "        text-align: right;\n",
       "    }\n",
       "</style>\n",
       "<table border=\"1\" class=\"dataframe\">\n",
       "  <thead>\n",
       "    <tr style=\"text-align: right;\">\n",
       "      <th></th>\n",
       "      <th>question</th>\n",
       "      <th>actual_answer</th>\n",
       "      <th>model_response</th>\n",
       "      <th>score</th>\n",
       "    </tr>\n",
       "  </thead>\n",
       "  <tbody>\n",
       "    <tr>\n",
       "      <th>0</th>\n",
       "      <td>When the did the revolver shoot?</td>\n",
       "      <td>three o'clock in the morning</td>\n",
       "      <td>three o'clock in the morning</td>\n",
       "      <td>0.745478</td>\n",
       "    </tr>\n",
       "    <tr>\n",
       "      <th>1</th>\n",
       "      <td>Where was Gertrude?</td>\n",
       "      <td>in her room</td>\n",
       "      <td>her room</td>\n",
       "      <td>0.411022</td>\n",
       "    </tr>\n",
       "    <tr>\n",
       "      <th>2</th>\n",
       "      <td>Was Halsey in his room?</td>\n",
       "      <td>It was empty; the bed had not been occupied!</td>\n",
       "      <td>it had not been occupied</td>\n",
       "      <td>0.369032</td>\n",
       "    </tr>\n",
       "    <tr>\n",
       "      <th>3</th>\n",
       "      <td>Who was the cook calling?</td>\n",
       "      <td>the Greenwood Club</td>\n",
       "      <td>Greenwood Club</td>\n",
       "      <td>0.617099</td>\n",
       "    </tr>\n",
       "    <tr>\n",
       "      <th>4</th>\n",
       "      <td>Where was the man huddled?</td>\n",
       "      <td>on the floor, face down, with his arms extended</td>\n",
       "      <td>the upper landing of the stairs</td>\n",
       "      <td>0.284429</td>\n",
       "    </tr>\n",
       "    <tr>\n",
       "      <th>5</th>\n",
       "      <td>Did they find anyon ein Mr. Bailey's room?</td>\n",
       "      <td>it had not been occupied</td>\n",
       "      <td>We found the living-room and the drawing-room ...</td>\n",
       "      <td>0.331324</td>\n",
       "    </tr>\n",
       "  </tbody>\n",
       "</table>\n",
       "</div>"
      ],
      "text/plain": [
       "                                     question  \\\n",
       "0            When the did the revolver shoot?   \n",
       "1                         Where was Gertrude?   \n",
       "2                     Was Halsey in his room?   \n",
       "3                   Who was the cook calling?   \n",
       "4                  Where was the man huddled?   \n",
       "5  Did they find anyon ein Mr. Bailey's room?   \n",
       "\n",
       "                                     actual_answer  \\\n",
       "0                     three o'clock in the morning   \n",
       "1                                      in her room   \n",
       "2     It was empty; the bed had not been occupied!   \n",
       "3                               the Greenwood Club   \n",
       "4  on the floor, face down, with his arms extended   \n",
       "5                         it had not been occupied   \n",
       "\n",
       "                                      model_response     score  \n",
       "0                       three o'clock in the morning  0.745478  \n",
       "1                                           her room  0.411022  \n",
       "2                           it had not been occupied  0.369032  \n",
       "3                                     Greenwood Club  0.617099  \n",
       "4                    the upper landing of the stairs  0.284429  \n",
       "5  We found the living-room and the drawing-room ...  0.331324  "
      ]
     },
     "execution_count": 33,
     "metadata": {},
     "output_type": "execute_result"
    }
   ],
   "source": [
    "crime_scene_df = get_question_df(basic_nlp, crime_scene_questions, crime_scene_answers, crime_scene_context)\n",
    "crime_scene_df"
   ]
  },
  {
   "cell_type": "markdown",
   "metadata": {},
   "source": [
    "### Section 4: The Evidence"
   ]
  },
  {
   "cell_type": "code",
   "execution_count": 34,
   "metadata": {},
   "outputs": [
    {
     "data": {
      "text/plain": [
       "'\"Sit down,\" he said, pushing forward a chair. \"There are some things I have to tell you, and, in return, please tell me all you know. Believe me, things always come out. In the first place, Mr. Armstrong was shot from above. The bullet was fired at close range, entered below the shoulder and came out, after passing through the heart, well down the back. In other words, I believe the murderer stood on the stairs and fired down. In the second place, I found on the edge of the billiard-table a charred cigar which had burned itself partly out, and a cigarette which had consumed itself to the cork tip. Neither one had been more than lighted, then put down and forgotten. Have you any idea what it was that made your nephew and Mr. Bailey leave their cigars and their game, take out the automobile without calling the chauffeur, and all this at-let me see-certainly before three o\\'clock in the morning?\" \"I don\\'t know,\" I said; \"but depend on it, Mr. Jamieson, Halsey will be back himself to explain everything.\" \"I sincerely hope so,\" he said. \"Miss Innes, has it occurred to you that Mr. Bailey might know something of this?\" Gertrude had come down-stairs and just as he spoke she came in. I saw her stop suddenly, as if she had been struck. \"He does not,\" she said in a tone that was not her own. \"Mr. Bailey and my brother know nothing of this. The murder was committed at three. They left the house at a quarter before three.\" \"How do you know that?\" Mr. Jamieson asked oddly. \"Do you _know_ at what time they left?\" \"I do,\" Gertrude answered firmly. \"At a quarter before three my brother and Mr. Bailey left the house, by the main entrance. I-was-there.\"'"
      ]
     },
     "execution_count": 34,
     "metadata": {},
     "output_type": "execute_result"
    }
   ],
   "source": [
    "evidence_context"
   ]
  },
  {
   "cell_type": "code",
   "execution_count": 35,
   "metadata": {},
   "outputs": [
    {
     "name": "stderr",
     "output_type": "stream",
     "text": [
      "/Users/96v/opt/anaconda3/lib/python3.8/site-packages/transformers/tokenization_utils_base.py:705: VisibleDeprecationWarning: Creating an ndarray from ragged nested sequences (which is a list-or-tuple of lists-or-tuples-or ndarrays with different lengths or shapes) is deprecated. If you meant to do this, you must specify 'dtype=object' when creating the ndarray.\n",
      "  tensor = as_tensor(value)\n",
      "/Users/96v/opt/anaconda3/lib/python3.8/site-packages/transformers/pipelines/question_answering.py:295: VisibleDeprecationWarning: Creating an ndarray from ragged nested sequences (which is a list-or-tuple of lists-or-tuples-or ndarrays with different lengths or shapes) is deprecated. If you meant to do this, you must specify 'dtype=object' when creating the ndarray.\n",
      "  p_mask = np.asarray(\n"
     ]
    },
    {
     "data": {
      "text/html": [
       "<div>\n",
       "<style scoped>\n",
       "    .dataframe tbody tr th:only-of-type {\n",
       "        vertical-align: middle;\n",
       "    }\n",
       "\n",
       "    .dataframe tbody tr th {\n",
       "        vertical-align: top;\n",
       "    }\n",
       "\n",
       "    .dataframe thead th {\n",
       "        text-align: right;\n",
       "    }\n",
       "</style>\n",
       "<table border=\"1\" class=\"dataframe\">\n",
       "  <thead>\n",
       "    <tr style=\"text-align: right;\">\n",
       "      <th></th>\n",
       "      <th>question</th>\n",
       "      <th>actual_answer</th>\n",
       "      <th>model_response</th>\n",
       "      <th>score</th>\n",
       "    </tr>\n",
       "  </thead>\n",
       "  <tbody>\n",
       "    <tr>\n",
       "      <th>0</th>\n",
       "      <td>From where was mister armstrong shot?</td>\n",
       "      <td>from above</td>\n",
       "      <td>by the main entrance</td>\n",
       "      <td>0.583050</td>\n",
       "    </tr>\n",
       "    <tr>\n",
       "      <th>1</th>\n",
       "      <td>How was the bullet fired?</td>\n",
       "      <td>at close range</td>\n",
       "      <td>at close range</td>\n",
       "      <td>0.375951</td>\n",
       "    </tr>\n",
       "    <tr>\n",
       "      <th>2</th>\n",
       "      <td>What was on the billiard-table?</td>\n",
       "      <td>a charred cigar</td>\n",
       "      <td>a charred cigar</td>\n",
       "      <td>0.402332</td>\n",
       "    </tr>\n",
       "    <tr>\n",
       "      <th>3</th>\n",
       "      <td>When did Halsey and Mr. Bailey take out the au...</td>\n",
       "      <td>certainly before three o'clock in the morning</td>\n",
       "      <td>before three o'clock in the morning</td>\n",
       "      <td>0.706888</td>\n",
       "    </tr>\n",
       "    <tr>\n",
       "      <th>4</th>\n",
       "      <td>When was the murder commmitted?</td>\n",
       "      <td>at three</td>\n",
       "      <td>three</td>\n",
       "      <td>0.708238</td>\n",
       "    </tr>\n",
       "    <tr>\n",
       "      <th>5</th>\n",
       "      <td>When did Halsey leave the house?</td>\n",
       "      <td>At a quarter before three</td>\n",
       "      <td>a quarter before three</td>\n",
       "      <td>0.697544</td>\n",
       "    </tr>\n",
       "    <tr>\n",
       "      <th>6</th>\n",
       "      <td>Who did Halsey leave with?</td>\n",
       "      <td>Mr. Bailey</td>\n",
       "      <td>cigars</td>\n",
       "      <td>0.255610</td>\n",
       "    </tr>\n",
       "  </tbody>\n",
       "</table>\n",
       "</div>"
      ],
      "text/plain": [
       "                                            question  \\\n",
       "0              From where was mister armstrong shot?   \n",
       "1                          How was the bullet fired?   \n",
       "2                    What was on the billiard-table?   \n",
       "3  When did Halsey and Mr. Bailey take out the au...   \n",
       "4                    When was the murder commmitted?   \n",
       "5                   When did Halsey leave the house?   \n",
       "6                         Who did Halsey leave with?   \n",
       "\n",
       "                                   actual_answer  \\\n",
       "0                                     from above   \n",
       "1                                 at close range   \n",
       "2                                a charred cigar   \n",
       "3  certainly before three o'clock in the morning   \n",
       "4                                       at three   \n",
       "5                      At a quarter before three   \n",
       "6                                     Mr. Bailey   \n",
       "\n",
       "                        model_response     score  \n",
       "0                 by the main entrance  0.583050  \n",
       "1                       at close range  0.375951  \n",
       "2                      a charred cigar  0.402332  \n",
       "3  before three o'clock in the morning  0.706888  \n",
       "4                                three  0.708238  \n",
       "5               a quarter before three  0.697544  \n",
       "6                               cigars  0.255610  "
      ]
     },
     "execution_count": 35,
     "metadata": {},
     "output_type": "execute_result"
    }
   ],
   "source": [
    "evidence_df = get_question_df(basic_nlp, evidence_questions, evidence_answers, evidence_context)\n",
    "evidence_df"
   ]
  },
  {
   "cell_type": "markdown",
   "metadata": {},
   "source": [
    "### Section 5: The Big Reveal"
   ]
  },
  {
   "cell_type": "code",
   "execution_count": 36,
   "metadata": {},
   "outputs": [
    {
     "data": {
      "text/plain": [
       "\"On the way across the lawn she was confronted by Arnold, who for some reason was determined to get into the house. He had a golf-stick in his hand, that he had picked up somewhere, and on her refusal he had struck her with it. One hand had been badly cut, and it was that, poisoning having set in, which was killing her. She broke away in a frenzy of rage and fear, and got into the house while Gertrude and Jack Bailey were at the front door. She went up-stairs, hardly knowing what she was doing. Gertrude's door was open, and Halsey's revolver lay there on the bed. She picked it up and turning, ran part way down the circular staircase. She could hear Arnold fumbling at the lock outside. She slipped down quietly and opened the door: he was inside before she had got back to the stairs. It was quite dark, but she could see his white shirt-bosom. From the fourth step she fired. As he fell, somebody in the billiard-room screamed and ran. When the alarm was raised, she had had no time to get up-stairs: she hid in the west wing until every one was down on the lower floor. Then she slipped upstairs, and threw the revolver out of an upper window, going down again in time to admit the men from the Greenwood Club. If Thomas had suspected, he had never told. When she found the hand Arnold had injured was growing worse, she gave the address of Lucien at Richfield to the old man, and almost a hundred dollars. The money was for Lucien's board until she recovered. She had sent for me to ask me if I would try to interest the Armstrongs in the child. When she found herself growing worse, she had written to Mrs. Armstrong, telling her nothing but that Arnold's legitimate child was at Richfield, and imploring her to recognize him. She was dying: the boy was an Armstrong, and entitled to his father's share of the estate. The papers were in her trunk at Sunnyside, with letters from the dead man that would prove what she said. She was going; she would not be judged by earthly laws; and somewhere else perhaps Lucy would plead for her. It was she who had crept down the circular staircase, drawn by a magnet, that night Mr. Jamieson had heard some one there. Pursued, she had fled madly, anywhere-through the first door she came to. She had fallen down the clothes chute, and been saved by the basket beneath. I could have cried with relief; then it had not been Gertrude, after all!\""
      ]
     },
     "execution_count": 36,
     "metadata": {},
     "output_type": "execute_result"
    }
   ],
   "source": [
    "resolution_context"
   ]
  },
  {
   "cell_type": "code",
   "execution_count": 37,
   "metadata": {},
   "outputs": [
    {
     "name": "stderr",
     "output_type": "stream",
     "text": [
      "/Users/96v/opt/anaconda3/lib/python3.8/site-packages/transformers/tokenization_utils_base.py:705: VisibleDeprecationWarning: Creating an ndarray from ragged nested sequences (which is a list-or-tuple of lists-or-tuples-or ndarrays with different lengths or shapes) is deprecated. If you meant to do this, you must specify 'dtype=object' when creating the ndarray.\n",
      "  tensor = as_tensor(value)\n",
      "/Users/96v/opt/anaconda3/lib/python3.8/site-packages/transformers/pipelines/question_answering.py:295: VisibleDeprecationWarning: Creating an ndarray from ragged nested sequences (which is a list-or-tuple of lists-or-tuples-or ndarrays with different lengths or shapes) is deprecated. If you meant to do this, you must specify 'dtype=object' when creating the ndarray.\n",
      "  p_mask = np.asarray(\n"
     ]
    },
    {
     "data": {
      "text/html": [
       "<div>\n",
       "<style scoped>\n",
       "    .dataframe tbody tr th:only-of-type {\n",
       "        vertical-align: middle;\n",
       "    }\n",
       "\n",
       "    .dataframe tbody tr th {\n",
       "        vertical-align: top;\n",
       "    }\n",
       "\n",
       "    .dataframe thead th {\n",
       "        text-align: right;\n",
       "    }\n",
       "</style>\n",
       "<table border=\"1\" class=\"dataframe\">\n",
       "  <thead>\n",
       "    <tr style=\"text-align: right;\">\n",
       "      <th></th>\n",
       "      <th>question</th>\n",
       "      <th>actual_answer</th>\n",
       "      <th>model_response</th>\n",
       "      <th>score</th>\n",
       "    </tr>\n",
       "  </thead>\n",
       "  <tbody>\n",
       "    <tr>\n",
       "      <th>0</th>\n",
       "      <td>How did Anne Watson get the gun?</td>\n",
       "      <td>Gertrude's door was open</td>\n",
       "      <td>She went up-stairs</td>\n",
       "      <td>0.057701</td>\n",
       "    </tr>\n",
       "    <tr>\n",
       "      <th>1</th>\n",
       "      <td>What did Anne Watson do with the gun?</td>\n",
       "      <td>threw the revolver out of an upper window</td>\n",
       "      <td>She went up-stairs</td>\n",
       "      <td>0.055004</td>\n",
       "    </tr>\n",
       "    <tr>\n",
       "      <th>2</th>\n",
       "      <td>Where was Anne Watson confronted by Arnold?</td>\n",
       "      <td>On the way across the lawn</td>\n",
       "      <td>On the way across the lawn</td>\n",
       "      <td>0.781625</td>\n",
       "    </tr>\n",
       "    <tr>\n",
       "      <th>3</th>\n",
       "      <td>What did Arnold strike Anne Watson with?</td>\n",
       "      <td>golf-stick</td>\n",
       "      <td>golf-stick</td>\n",
       "      <td>0.399060</td>\n",
       "    </tr>\n",
       "    <tr>\n",
       "      <th>4</th>\n",
       "      <td>Where did the scream come from?</td>\n",
       "      <td>the billiard-room</td>\n",
       "      <td>billiard-room</td>\n",
       "      <td>0.661553</td>\n",
       "    </tr>\n",
       "    <tr>\n",
       "      <th>5</th>\n",
       "      <td>To whom did the weapon belong?</td>\n",
       "      <td>Halsey</td>\n",
       "      <td>Mrs. Armstrong</td>\n",
       "      <td>0.369573</td>\n",
       "    </tr>\n",
       "    <tr>\n",
       "      <th>6</th>\n",
       "      <td>Who did they initially think was the murderer?</td>\n",
       "      <td>Gertrude</td>\n",
       "      <td>Arnold</td>\n",
       "      <td>0.667139</td>\n",
       "    </tr>\n",
       "  </tbody>\n",
       "</table>\n",
       "</div>"
      ],
      "text/plain": [
       "                                         question  \\\n",
       "0                How did Anne Watson get the gun?   \n",
       "1           What did Anne Watson do with the gun?   \n",
       "2     Where was Anne Watson confronted by Arnold?   \n",
       "3        What did Arnold strike Anne Watson with?   \n",
       "4                 Where did the scream come from?   \n",
       "5                  To whom did the weapon belong?   \n",
       "6  Who did they initially think was the murderer?   \n",
       "\n",
       "                               actual_answer              model_response  \\\n",
       "0                   Gertrude's door was open          She went up-stairs   \n",
       "1  threw the revolver out of an upper window          She went up-stairs   \n",
       "2                 On the way across the lawn  On the way across the lawn   \n",
       "3                                 golf-stick                  golf-stick   \n",
       "4                          the billiard-room               billiard-room   \n",
       "5                                     Halsey              Mrs. Armstrong   \n",
       "6                                   Gertrude                      Arnold   \n",
       "\n",
       "      score  \n",
       "0  0.057701  \n",
       "1  0.055004  \n",
       "2  0.781625  \n",
       "3  0.399060  \n",
       "4  0.661553  \n",
       "5  0.369573  \n",
       "6  0.667139  "
      ]
     },
     "execution_count": 37,
     "metadata": {},
     "output_type": "execute_result"
    }
   ],
   "source": [
    "resolution_df = get_question_df(basic_nlp, resolution_questions, resolution_answers, resolution_context)\n",
    "resolution_df"
   ]
  },
  {
   "cell_type": "markdown",
   "metadata": {},
   "source": [
    "## Specific Questions From a Context Are Cool.... But Can We Explore Everything?"
   ]
  },
  {
   "cell_type": "code",
   "execution_count": null,
   "metadata": {
    "ExecuteTime": {
     "end_time": "2021-11-27T02:53:17.250851Z",
     "start_time": "2021-11-27T02:42:43.864378Z"
    },
    "scrolled": false
   },
   "outputs": [
    {
     "name": "stdout",
     "output_type": "stream",
     "text": [
      "Total number of sentences:  5235\n"
     ]
    },
    {
     "name": "stderr",
     "output_type": "stream",
     "text": [
      "Start index 0, end index 0 (0 sents used). Current length of text block: None:   0%| | 0/349 [00:00<?, ?i"
     ]
    },
    {
     "name": "stdout",
     "output_type": "stream",
     "text": [
      "huggingface/tokenizers: The current process just got forked, after parallelism has already been used. Disabling parallelism to avoid deadlocks...\n",
      "To disable this warning, you can either:\n",
      "\t- Avoid using `tokenizers` before the fork if possible\n",
      "\t- Explicitly set the environment variable TOKENIZERS_PARALLELISM=(true | false)\n"
     ]
    },
    {
     "name": "stderr",
     "output_type": "stream",
     "text": [
      "/Users/96v/opt/anaconda3/lib/python3.8/site-packages/transformers/tokenization_utils_base.py:705: VisibleDeprecationWarning: Creating an ndarray from ragged nested sequences (which is a list-or-tuple of lists-or-tuples-or ndarrays with different lengths or shapes) is deprecated. If you meant to do this, you must specify 'dtype=object' when creating the ndarray.\n",
      "  tensor = as_tensor(value)\n",
      "/Users/96v/opt/anaconda3/lib/python3.8/site-packages/transformers/pipelines/question_answering.py:295: VisibleDeprecationWarning: Creating an ndarray from ragged nested sequences (which is a list-or-tuple of lists-or-tuples-or ndarrays with different lengths or shapes) is deprecated. If you meant to do this, you must specify 'dtype=object' when creating the ndarray.\n",
      "  p_mask = np.asarray(\n",
      "Start index 3960, end index 3998 (38 sents used). Current length of text block: 495:  76%|▊| 264/349 [04:"
     ]
    }
   ],
   "source": [
    "# Ask a question\n",
    "question = \"Who is the killer?\"\n",
    "window = 15\n",
    "answers = proj3_lib.question_answering.ask_question(question=question,\n",
    "                                                    sentences=sentences,\n",
    "                                                    window=window)\n",
    "#sorted(pprint([a['answer'] for a in answers]))"
   ]
  },
  {
   "cell_type": "code",
   "execution_count": null,
   "metadata": {
    "ExecuteTime": {
     "end_time": "2021-11-27T03:06:16.837050Z",
     "start_time": "2021-11-27T03:06:16.793020Z"
    }
   },
   "outputs": [],
   "source": [
    "# Group answers and calcualte averages\n",
    "# TODO: maybe we want to sum them?\n",
    "sorted_answers = proj3_lib.question_answering.get_sorted_grouped_answers(answers)\n",
    "pprint(sorted_answers[:15])"
   ]
  },
  {
   "cell_type": "code",
   "execution_count": null,
   "metadata": {},
   "outputs": [],
   "source": [
    "question = \"Who is the detective?\"\n",
    "answers = proj3_lib.question_answering.ask_question(question=question,\n",
    "                                                    sentences=sentences,\n",
    "                                                    window=window)\n",
    "sorted_answers = proj3_lib.question_answering.get_sorted_grouped_answers(answers)\n",
    "pprint(sorted_answers[:15])"
   ]
  },
  {
   "cell_type": "code",
   "execution_count": null,
   "metadata": {},
   "outputs": [],
   "source": [
    "question = \"Who was wrongly suspected?\"\n",
    "answers = proj3_lib.question_answering.ask_question(question=question,\n",
    "                                                    sentences=sentences,\n",
    "                                                    window=window)\n",
    "sorted_answers = proj3_lib.question_answering.get_sorted_grouped_answers(answers)\n",
    "pprint(sorted_answers[:15])"
   ]
  },
  {
   "cell_type": "code",
   "execution_count": null,
   "metadata": {},
   "outputs": [],
   "source": [
    "question = \"What was the murder weapon?\"\n",
    "answers = proj3_lib.question_answering.ask_question(question=question,\n",
    "                                                    sentences=sentences,\n",
    "                                                    window=window)\n",
    "sorted_answers = proj3_lib.question_answering.get_sorted_grouped_answers(answers)\n",
    "pprint(sorted_answers[:15])"
   ]
  },
  {
   "cell_type": "markdown",
   "metadata": {},
   "source": [
    "## Part 2: Training our own"
   ]
  },
  {
   "cell_type": "code",
   "execution_count": 24,
   "metadata": {
    "ExecuteTime": {
     "end_time": "2021-11-27T02:53:43.365021Z",
     "start_time": "2021-11-27T02:53:34.467259Z"
    }
   },
   "outputs": [
    {
     "name": "stdout",
     "output_type": "stream",
     "text": [
      "Loading data\n",
      "Tokenizing\n"
     ]
    },
    {
     "ename": "KeyboardInterrupt",
     "evalue": "",
     "output_type": "error",
     "traceback": [
      "\u001b[0;31m---------------------------------------------------------------------------\u001b[0m",
      "\u001b[0;31mKeyboardInterrupt\u001b[0m                         Traceback (most recent call last)",
      "\u001b[0;32m/var/folders/t2/m3k1zxzn3ml89m89sc02b7_80000gn/T/ipykernel_92730/2485667399.py\u001b[0m in \u001b[0;36m<module>\u001b[0;34m\u001b[0m\n\u001b[1;32m      1\u001b[0m \u001b[0mtrainpath\u001b[0m \u001b[0;34m=\u001b[0m \u001b[0;34m'squad/train-v2.0.json'\u001b[0m\u001b[0;34m\u001b[0m\u001b[0;34m\u001b[0m\u001b[0m\n\u001b[1;32m      2\u001b[0m \u001b[0mtestpath\u001b[0m \u001b[0;34m=\u001b[0m \u001b[0;34m'squad/dev-v2.0.json'\u001b[0m\u001b[0;34m\u001b[0m\u001b[0;34m\u001b[0m\u001b[0m\n\u001b[0;32m----> 3\u001b[0;31m \u001b[0mproj3_lib\u001b[0m\u001b[0;34m.\u001b[0m\u001b[0mread_and_extract_train_val_data\u001b[0m\u001b[0;34m(\u001b[0m\u001b[0mtrainpath\u001b[0m\u001b[0;34m,\u001b[0m \u001b[0mtestpath\u001b[0m\u001b[0;34m,\u001b[0m \u001b[0;32mNone\u001b[0m\u001b[0;34m,\u001b[0m \u001b[0;32mNone\u001b[0m\u001b[0;34m,\u001b[0m \u001b[0;32mNone\u001b[0m\u001b[0;34m)\u001b[0m\u001b[0;34m\u001b[0m\u001b[0;34m\u001b[0m\u001b[0m\n\u001b[0m",
      "\u001b[0;32m~/Insync/delfinas7kostas@gmail.com/Google Drive/Projects/UTK/NLP-Project3/Code/nlp_libs/books/untrained_qa_model.py\u001b[0m in \u001b[0;36mread_and_extract_train_val_data\u001b[0;34m(train_path, test_path, question_contexts, questions, answers)\u001b[0m\n\u001b[1;32m    120\u001b[0m         'distilbert-base-uncased')\n\u001b[1;32m    121\u001b[0m \u001b[0;34m\u001b[0m\u001b[0m\n\u001b[0;32m--> 122\u001b[0;31m     \u001b[0mtrain_encodings\u001b[0m \u001b[0;34m=\u001b[0m \u001b[0mtokenizer\u001b[0m\u001b[0;34m(\u001b[0m\u001b[0mtrain_contexts\u001b[0m\u001b[0;34m,\u001b[0m \u001b[0mtrain_questions\u001b[0m\u001b[0;34m,\u001b[0m \u001b[0mtruncation\u001b[0m\u001b[0;34m=\u001b[0m\u001b[0;32mTrue\u001b[0m\u001b[0;34m,\u001b[0m \u001b[0mpadding\u001b[0m\u001b[0;34m=\u001b[0m\u001b[0;32mTrue\u001b[0m\u001b[0;34m)\u001b[0m\u001b[0;34m\u001b[0m\u001b[0;34m\u001b[0m\u001b[0m\n\u001b[0m\u001b[1;32m    123\u001b[0m     \u001b[0mval_encodings\u001b[0m \u001b[0;34m=\u001b[0m \u001b[0mtokenizer\u001b[0m\u001b[0;34m(\u001b[0m\u001b[0mval_contexts\u001b[0m\u001b[0;34m,\u001b[0m \u001b[0mval_questions\u001b[0m\u001b[0;34m,\u001b[0m\u001b[0mtruncation\u001b[0m\u001b[0;34m=\u001b[0m\u001b[0;32mTrue\u001b[0m\u001b[0;34m,\u001b[0m \u001b[0mpadding\u001b[0m\u001b[0;34m=\u001b[0m\u001b[0;32mTrue\u001b[0m\u001b[0;34m)\u001b[0m\u001b[0;34m\u001b[0m\u001b[0;34m\u001b[0m\u001b[0m\n\u001b[1;32m    124\u001b[0m \u001b[0;34m\u001b[0m\u001b[0m\n",
      "\u001b[0;32m~/anaconda3/envs/rinehartAnalysis_questionAnswering/lib/python3.9/site-packages/transformers-4.12.3-py3.9.egg/transformers/tokenization_utils_base.py\u001b[0m in \u001b[0;36m__call__\u001b[0;34m(self, text, text_pair, add_special_tokens, padding, truncation, max_length, stride, is_split_into_words, pad_to_multiple_of, return_tensors, return_token_type_ids, return_attention_mask, return_overflowing_tokens, return_special_tokens_mask, return_offsets_mapping, return_length, verbose, **kwargs)\u001b[0m\n\u001b[1;32m   2402\u001b[0m                 )\n\u001b[1;32m   2403\u001b[0m             \u001b[0mbatch_text_or_text_pairs\u001b[0m \u001b[0;34m=\u001b[0m \u001b[0mlist\u001b[0m\u001b[0;34m(\u001b[0m\u001b[0mzip\u001b[0m\u001b[0;34m(\u001b[0m\u001b[0mtext\u001b[0m\u001b[0;34m,\u001b[0m \u001b[0mtext_pair\u001b[0m\u001b[0;34m)\u001b[0m\u001b[0;34m)\u001b[0m \u001b[0;32mif\u001b[0m \u001b[0mtext_pair\u001b[0m \u001b[0;32mis\u001b[0m \u001b[0;32mnot\u001b[0m \u001b[0;32mNone\u001b[0m \u001b[0;32melse\u001b[0m \u001b[0mtext\u001b[0m\u001b[0;34m\u001b[0m\u001b[0;34m\u001b[0m\u001b[0m\n\u001b[0;32m-> 2404\u001b[0;31m             return self.batch_encode_plus(\n\u001b[0m\u001b[1;32m   2405\u001b[0m                 \u001b[0mbatch_text_or_text_pairs\u001b[0m\u001b[0;34m=\u001b[0m\u001b[0mbatch_text_or_text_pairs\u001b[0m\u001b[0;34m,\u001b[0m\u001b[0;34m\u001b[0m\u001b[0;34m\u001b[0m\u001b[0m\n\u001b[1;32m   2406\u001b[0m                 \u001b[0madd_special_tokens\u001b[0m\u001b[0;34m=\u001b[0m\u001b[0madd_special_tokens\u001b[0m\u001b[0;34m,\u001b[0m\u001b[0;34m\u001b[0m\u001b[0;34m\u001b[0m\u001b[0m\n",
      "\u001b[0;32m~/anaconda3/envs/rinehartAnalysis_questionAnswering/lib/python3.9/site-packages/transformers-4.12.3-py3.9.egg/transformers/tokenization_utils_base.py\u001b[0m in \u001b[0;36mbatch_encode_plus\u001b[0;34m(self, batch_text_or_text_pairs, add_special_tokens, padding, truncation, max_length, stride, is_split_into_words, pad_to_multiple_of, return_tensors, return_token_type_ids, return_attention_mask, return_overflowing_tokens, return_special_tokens_mask, return_offsets_mapping, return_length, verbose, **kwargs)\u001b[0m\n\u001b[1;32m   2587\u001b[0m         )\n\u001b[1;32m   2588\u001b[0m \u001b[0;34m\u001b[0m\u001b[0m\n\u001b[0;32m-> 2589\u001b[0;31m         return self._batch_encode_plus(\n\u001b[0m\u001b[1;32m   2590\u001b[0m             \u001b[0mbatch_text_or_text_pairs\u001b[0m\u001b[0;34m=\u001b[0m\u001b[0mbatch_text_or_text_pairs\u001b[0m\u001b[0;34m,\u001b[0m\u001b[0;34m\u001b[0m\u001b[0;34m\u001b[0m\u001b[0m\n\u001b[1;32m   2591\u001b[0m             \u001b[0madd_special_tokens\u001b[0m\u001b[0;34m=\u001b[0m\u001b[0madd_special_tokens\u001b[0m\u001b[0;34m,\u001b[0m\u001b[0;34m\u001b[0m\u001b[0;34m\u001b[0m\u001b[0m\n",
      "\u001b[0;32m~/anaconda3/envs/rinehartAnalysis_questionAnswering/lib/python3.9/site-packages/transformers-4.12.3-py3.9.egg/transformers/tokenization_utils_fast.py\u001b[0m in \u001b[0;36m_batch_encode_plus\u001b[0;34m(self, batch_text_or_text_pairs, add_special_tokens, padding_strategy, truncation_strategy, max_length, stride, is_split_into_words, pad_to_multiple_of, return_tensors, return_token_type_ids, return_attention_mask, return_overflowing_tokens, return_special_tokens_mask, return_offsets_mapping, return_length, verbose)\u001b[0m\n\u001b[1;32m    404\u001b[0m         )\n\u001b[1;32m    405\u001b[0m \u001b[0;34m\u001b[0m\u001b[0m\n\u001b[0;32m--> 406\u001b[0;31m         encodings = self._tokenizer.encode_batch(\n\u001b[0m\u001b[1;32m    407\u001b[0m             \u001b[0mbatch_text_or_text_pairs\u001b[0m\u001b[0;34m,\u001b[0m\u001b[0;34m\u001b[0m\u001b[0;34m\u001b[0m\u001b[0m\n\u001b[1;32m    408\u001b[0m             \u001b[0madd_special_tokens\u001b[0m\u001b[0;34m=\u001b[0m\u001b[0madd_special_tokens\u001b[0m\u001b[0;34m,\u001b[0m\u001b[0;34m\u001b[0m\u001b[0;34m\u001b[0m\u001b[0m\n",
      "\u001b[0;31mKeyboardInterrupt\u001b[0m: "
     ]
    }
   ],
   "source": [
    "trainpath = 'squad/train-v2.0.json'\n",
    "testpath = 'squad/dev-v2.0.json'\n",
    "proj3_lib.read_and_extract_train_val_data(trainpath, testpath, None, None, None)"
   ]
  },
  {
   "cell_type": "markdown",
   "metadata": {
    "id": "i_R2mcmqgSdq"
   },
   "source": [
    "## Plots"
   ]
  },
  {
   "cell_type": "code",
   "execution_count": 25,
   "metadata": {
    "ExecuteTime": {
     "end_time": "2021-11-27T02:53:49.259307Z",
     "start_time": "2021-11-27T02:53:49.220238Z"
    },
    "id": "gRUrrWe7gSdq"
   },
   "outputs": [],
   "source": [
    "from nlp_libs.books import plotter as pl"
   ]
  },
  {
   "cell_type": "code",
   "execution_count": 96,
   "metadata": {
    "ExecuteTime": {
     "end_time": "2021-11-27T04:06:09.473864Z",
     "start_time": "2021-11-27T04:06:09.426213Z"
    }
   },
   "outputs": [],
   "source": []
  },
  {
   "cell_type": "code",
   "execution_count": 137,
   "metadata": {
    "ExecuteTime": {
     "end_time": "2021-11-27T04:25:53.709544Z",
     "start_time": "2021-11-27T04:25:53.195862Z"
    }
   },
   "outputs": [
    {
     "name": "stderr",
     "output_type": "stream",
     "text": [
      "/Users/gkos/Insync/delfinas7kostas@gmail.com/Google Drive/Projects/UTK/NLP-Project3/Code/nlp_libs/books/plotter.py:58: UserWarning: Matplotlib is currently using module://matplotlib_inline.backend_inline, which is a non-GUI backend, so cannot show the figure.\n",
      "  max_value = max(values)\n"
     ]
    },
    {
     "data": {
      "image/png": "[encoded data removed]",
      "text/plain": [
       "<Figure size 1512x567.36 with 1 Axes>"
      ]
     },
     "metadata": {},
     "output_type": "display_data"
    }
   ],
   "source": [
    "import seaborn as sns\n",
    "pal = sns.color_palette(\"tab10\")\n",
    "hexes = pal.as_hex()\n",
    "rgb = [tuple(int(h.lstrip('#')[i:i+2], 16)/255 for i in (0, 2, 4)) for h in hexes]\n",
    "pl.plot_scores(answers, title=question, min_score=0.9, base_c=(rgb[0]))"
   ]
  },
  {
   "cell_type": "code",
   "execution_count": null,
   "metadata": {},
   "outputs": [],
   "source": []
  }
 ],
 "metadata": {
  "colab": {
   "include_colab_link": true,
   "name": "main.ipynb",
   "provenance": [],
   "toc_visible": true
  },
  "kernelspec": {
   "display_name": "Python 3 (ipykernel)",
   "language": "python",
   "name": "python3"
  },
  "language_info": {
   "codemirror_mode": {
    "name": "ipython",
    "version": 3
   },
   "file_extension": ".py",
   "mimetype": "text/x-python",
   "name": "python",
   "nbconvert_exporter": "python",
   "pygments_lexer": "ipython3",
   "version": "3.8.12"
  },
  "toc": {
   "base_numbering": 1,
   "nav_menu": {},
   "number_sections": true,
   "sideBar": true,
   "skip_h1_title": false,
   "title_cell": "Table of Contents",
   "title_sidebar": "Contents",
   "toc_cell": false,
   "toc_position": {},
   "toc_section_display": true,
   "toc_window_display": false
  },
  "widgets": {
   "application/vnd.jupyter.widget-state+json": {
    "1731d42a04634fee89c2f80c12a29c88": {
     "model_module": "@jupyter-widgets/base",
     "model_module_version": "1.2.0",
     "model_name": "LayoutModel",
     "state": {
      "_model_module": "@jupyter-widgets/base",
      "_model_module_version": "1.2.0",
      "_model_name": "LayoutModel",
      "_view_count": null,
      "_view_module": "@jupyter-widgets/base",
      "_view_module_version": "1.2.0",
      "_view_name": "LayoutView",
      "align_content": null,
      "align_items": null,
      "align_self": null,
      "border": null,
      "bottom": null,
      "display": null,
      "flex": null,
      "flex_flow": null,
      "grid_area": null,
      "grid_auto_columns": null,
      "grid_auto_flow": null,
      "grid_auto_rows": null,
      "grid_column": null,
      "grid_gap": null,
      "grid_row": null,
      "grid_template_areas": null,
      "grid_template_columns": null,
      "grid_template_rows": null,
      "height": null,
      "justify_content": null,
      "justify_items": null,
      "left": null,
      "margin": null,
      "max_height": null,
      "max_width": null,
      "min_height": null,
      "min_width": null,
      "object_fit": null,
      "object_position": null,
      "order": null,
      "overflow": null,
      "overflow_x": null,
      "overflow_y": null,
      "padding": null,
      "right": null,
      "top": null,
      "visibility": null,
      "width": null
     }
    },
    "5f7a290065d24765a0bc5fa9801fd815": {
     "model_module": "@jupyter-widgets/controls",
     "model_module_version": "1.5.0",
     "model_name": "ButtonStyleModel",
     "state": {
      "_model_module": "@jupyter-widgets/controls",
      "_model_module_version": "1.5.0",
      "_model_name": "ButtonStyleModel",
      "_view_count": null,
      "_view_module": "@jupyter-widgets/base",
      "_view_module_version": "1.2.0",
      "_view_name": "StyleView",
      "button_color": null,
      "font_weight": ""
     }
    },
    "a5b00bcabdfc42c480043de40a36c486": {
     "model_module": "@jupyter-widgets/base",
     "model_module_version": "1.2.0",
     "model_name": "LayoutModel",
     "state": {
      "_model_module": "@jupyter-widgets/base",
      "_model_module_version": "1.2.0",
      "_model_name": "LayoutModel",
      "_view_count": null,
      "_view_module": "@jupyter-widgets/base",
      "_view_module_version": "1.2.0",
      "_view_name": "LayoutView",
      "align_content": null,
      "align_items": null,
      "align_self": null,
      "border": null,
      "bottom": null,
      "display": null,
      "flex": null,
      "flex_flow": null,
      "grid_area": null,
      "grid_auto_columns": null,
      "grid_auto_flow": null,
      "grid_auto_rows": null,
      "grid_column": null,
      "grid_gap": null,
      "grid_row": null,
      "grid_template_areas": null,
      "grid_template_columns": null,
      "grid_template_rows": null,
      "height": null,
      "justify_content": null,
      "justify_items": null,
      "left": null,
      "margin": null,
      "max_height": null,
      "max_width": null,
      "min_height": null,
      "min_width": null,
      "object_fit": null,
      "object_position": null,
      "order": null,
      "overflow": null,
      "overflow_x": null,
      "overflow_y": null,
      "padding": null,
      "right": null,
      "top": null,
      "visibility": null,
      "width": null
     }
    },
    "c55ebd5855ca490791c5d6b9308b6d4e": {
     "model_module": "@jupyter-widgets/controls",
     "model_module_version": "1.5.0",
     "model_name": "ButtonModel",
     "state": {
      "_dom_classes": [],
      "_model_module": "@jupyter-widgets/controls",
      "_model_module_version": "1.5.0",
      "_model_name": "ButtonModel",
      "_view_count": null,
      "_view_module": "@jupyter-widgets/controls",
      "_view_module_version": "1.5.0",
      "_view_name": "ButtonView",
      "button_style": "",
      "description": "Yes",
      "disabled": false,
      "icon": "",
      "layout": "IPY_MODEL_a5b00bcabdfc42c480043de40a36c486",
      "style": "IPY_MODEL_5f7a290065d24765a0bc5fa9801fd815",
      "tooltip": ""
     }
    },
    "e7b4d0dcb1f24d998063f877d1efbca7": {
     "model_module": "@jupyter-widgets/controls",
     "model_module_version": "1.5.0",
     "model_name": "ButtonModel",
     "state": {
      "_dom_classes": [],
      "_model_module": "@jupyter-widgets/controls",
      "_model_module_version": "1.5.0",
      "_model_name": "ButtonModel",
      "_view_count": null,
      "_view_module": "@jupyter-widgets/controls",
      "_view_module_version": "1.5.0",
      "_view_name": "ButtonView",
      "button_style": "",
      "description": "Yes, clone",
      "disabled": false,
      "icon": "",
      "layout": "IPY_MODEL_1731d42a04634fee89c2f80c12a29c88",
      "style": "IPY_MODEL_f7b19456e9b94ee09f8ed14cc1ba960b",
      "tooltip": ""
     }
    },
    "f7b19456e9b94ee09f8ed14cc1ba960b": {
     "model_module": "@jupyter-widgets/controls",
     "model_module_version": "1.5.0",
     "model_name": "ButtonStyleModel",
     "state": {
      "_model_module": "@jupyter-widgets/controls",
      "_model_module_version": "1.5.0",
      "_model_name": "ButtonStyleModel",
      "_view_count": null,
      "_view_module": "@jupyter-widgets/base",
      "_view_module_version": "1.2.0",
      "_view_name": "StyleView",
      "button_color": null,
      "font_weight": ""
     }
    }
   }
  }
 },
 "nbformat": 4,
 "nbformat_minor": 1
}
